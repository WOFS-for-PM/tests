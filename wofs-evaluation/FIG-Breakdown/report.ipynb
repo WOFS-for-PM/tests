{
 "cells": [
  {
   "cell_type": "code",
   "execution_count": 2,
   "id": "baafbdce",
   "metadata": {},
   "outputs": [],
   "source": [
    "# ipython -c \"%run plot.ipynb\"\n",
    "\n",
    "import pandas as pd\n",
    "\n",
    "with open(\"./performance-comparison-table-large\", \"r\") as f:\n",
    "    df = pd.read_csv(f, delim_whitespace=True, index_col=None, engine='python')\n",
    "\n",
    "fss = [\"PMFS\", \"NOVA\", \"SplitFS-FIO\", \"KILLER-NAIVE\", \"KILLER-NO-PREFETCH\", \"KILLER\"]\n",
    "ops = [\"seq-write\", \"rnd-write\", \"seq-read\", \"rnd-read\"]    "
   ]
  },
  {
   "cell_type": "markdown",
   "id": "5000f4c9",
   "metadata": {},
   "source": [
    "# WOFS Improvement"
   ]
  },
  {
   "cell_type": "code",
   "execution_count": 7,
   "id": "22dc3671",
   "metadata": {},
   "outputs": [
    {
     "name": "stdout",
     "output_type": "stream",
     "text": [
      "SW\n",
      "ratio_splitfs: 2.0109529025191675\n",
      "ratio_nova: 2.6608695652173915\n",
      "ratio_pmfs: 2.0839954597048806\n",
      "RW\n",
      "ratio_splitfs: 1.8782722513089005\n",
      "ratio_nova: 2.2996794871794872\n",
      "ratio_pmfs: 1.7165071770334928\n"
     ]
    }
   ],
   "source": [
    "bw_killer = df[(df['file_system'] == \"KILLER-NAIVE\") & (df['ops'] == \"seq-write\")]['bandwidth(MiB/s)'].iloc[0] \n",
    "bw_splitfs = df[(df['file_system'] == \"SplitFS-FIO\") & (df['ops'] == \"seq-write\")]['bandwidth(MiB/s)'].iloc[0]\n",
    "bw_nova = df[(df['file_system'] == \"NOVA\") & (df['ops'] == \"seq-write\")]['bandwidth(MiB/s)'].iloc[0]\n",
    "bw_pmfs = df[(df['file_system'] == \"PMFS\") & (df['ops'] == \"seq-write\")]['bandwidth(MiB/s)'].iloc[0]\n",
    "\n",
    "print(\"SW\")\n",
    "print(f\"ratio_splitfs: {bw_killer/bw_splitfs}\")\n",
    "print(f\"ratio_nova: {bw_killer/bw_nova}\")\n",
    "print(f\"ratio_pmfs: {bw_killer/bw_pmfs}\")\n",
    "\n",
    "bw_killer = df[(df['file_system'] == \"KILLER-NAIVE\") & (df['ops'] == \"rnd-write\")]['bandwidth(MiB/s)'].iloc[0]\n",
    "bw_splitfs = df[(df['file_system'] == \"SplitFS-FIO\") & (df['ops'] == \"rnd-write\")]['bandwidth(MiB/s)'].iloc[0]\n",
    "bw_nova = df[(df['file_system'] == \"NOVA\") & (df['ops'] == \"rnd-write\")]['bandwidth(MiB/s)'].iloc[0]\n",
    "bw_pmfs = df[(df['file_system'] == \"PMFS\") & (df['ops'] == \"rnd-write\")]['bandwidth(MiB/s)'].iloc[0]\n",
    "print(\"RW\")\n",
    "print(f\"ratio_splitfs: {bw_killer/bw_splitfs}\")\n",
    "print(f\"ratio_nova: {bw_killer/bw_nova}\")\n",
    "print(f\"ratio_pmfs: {bw_killer/bw_pmfs}\")\n",
    "\n"
   ]
  },
  {
   "cell_type": "markdown",
   "id": "cd942353",
   "metadata": {},
   "source": [
    "# HA Improvement\n"
   ]
  },
  {
   "cell_type": "code",
   "execution_count": 10,
   "id": "eafc62f1",
   "metadata": {},
   "outputs": [
    {
     "name": "stdout",
     "output_type": "stream",
     "text": [
      "SW\n",
      "ratio_ha: 1.201525054466231\n",
      "SW\n",
      "ratio_ha: 1.0766550522648084\n"
     ]
    }
   ],
   "source": [
    "bw_killer = df[(df['file_system'] == \"KILLER-NAIVE\") & (df['ops'] == \"seq-write\")]['bandwidth(MiB/s)'].iloc[0]\n",
    "bw_ha = df[(df['file_system'] == \"KILLER-NO-PREFETCH\") & (df['ops'] == \"seq-write\")]['bandwidth(MiB/s)'].iloc[0]\n",
    "print(\"SW\")\n",
    "print(f\"ratio_ha: {bw_ha/bw_killer}\")\n",
    "\n",
    "bw_killer = df[(df['file_system'] == \"KILLER-NAIVE\") & (df['ops'] == \"rnd-write\")]['bandwidth(MiB/s)'].iloc[0]\n",
    "bw_ha = df[(df['file_system'] == \"KILLER-NO-PREFETCH\") & (df['ops'] == \"rnd-write\")]['bandwidth(MiB/s)'].iloc[0]\n",
    "print(\"SW\")\n",
    "print(f\"ratio_ha: {bw_ha/bw_killer}\")\n"
   ]
  },
  {
   "cell_type": "markdown",
   "id": "1da0fc0e",
   "metadata": {},
   "source": [
    "# Read Improvement"
   ]
  },
  {
   "cell_type": "code",
   "execution_count": 13,
   "id": "cacfb7a5",
   "metadata": {},
   "outputs": [
    {
     "name": "stdout",
     "output_type": "stream",
     "text": [
      "SR\n",
      "ratio_ha: 1.2693798449612403\n",
      "RR\n",
      "ratio_ha: 1.2232558139534884\n"
     ]
    }
   ],
   "source": [
    "bw_killer = df[(df['file_system'] == \"KILLER-NAIVE\") & (df['ops'] == \"seq-read\")]['bandwidth(MiB/s)'].iloc[0]\n",
    "bw_ra = df[(df['file_system'] == \"KILLER\") & (df['ops'] == \"seq-read\")]['bandwidth(MiB/s)'].iloc[0]\n",
    "print(\"SR\")\n",
    "print(f\"ratio_ha: {bw_ra/bw_killer}\")\n",
    "\n",
    "bw_killer = df[(df['file_system'] == \"KILLER-NAIVE\") & (df['ops'] == \"rnd-read\")]['bandwidth(MiB/s)'].iloc[0]\n",
    "bw_ra = df[(df['file_system'] == \"KILLER\") & (df['ops'] == \"rnd-read\")]['bandwidth(MiB/s)'].iloc[0]\n",
    "print(\"RR\")\n",
    "print(f\"ratio_ha: {bw_ra/bw_killer}\")\n"
   ]
  }
 ],
 "metadata": {
  "kernelspec": {
   "display_name": "Python 3",
   "language": "python",
   "name": "python3"
  },
  "language_info": {
   "codemirror_mode": {
    "name": "ipython",
    "version": 3
   },
   "file_extension": ".py",
   "mimetype": "text/x-python",
   "name": "python",
   "nbconvert_exporter": "python",
   "pygments_lexer": "ipython3",
   "version": "3.8.17"
  }
 },
 "nbformat": 4,
 "nbformat_minor": 5
}
