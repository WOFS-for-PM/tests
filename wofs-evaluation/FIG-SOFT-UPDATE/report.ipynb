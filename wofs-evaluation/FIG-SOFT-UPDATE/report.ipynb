{
 "cells": [
  {
   "cell_type": "code",
   "execution_count": 5,
   "metadata": {},
   "outputs": [
    {
     "name": "stdout",
     "output_type": "stream",
     "text": [
      "HUNTER-J\n",
      "1.013207394681252 1.2246213648663757\n",
      "SoupFS\n",
      "1.2118112853424337 1.348622932809849\n"
     ]
    }
   ],
   "source": [
    "# ipython -c \"%run plot.ipynb\"\n",
    "\n",
    "import matplotlib\n",
    "from matplotlib import gridspec\n",
    "import matplotlib.pyplot as plt\n",
    "from matplotlib import style\n",
    "import pandas as pd\n",
    "import numpy as np\n",
    "from matplotlib.gridspec import GridSpec\n",
    "import matplotlib.ticker as mtick\n",
    "from mpl_toolkits.axes_grid1.inset_locator import mark_inset\n",
    "from mpl_toolkits.axes_grid1.inset_locator import inset_axes\n",
    "\n",
    "# Paper specific settings\n",
    "STANDARD_WIDTH = 17.8\n",
    "SINGLE_COL_WIDTH = STANDARD_WIDTH / 2\n",
    "DOUBLE_COL_WIDTH = STANDARD_WIDTH\n",
    "def cm_to_inch(value):\n",
    "    return value/2.54\n",
    "    \n",
    "# matplotlib style settings\n",
    "matplotlib.rcParams['text.usetex'] = False\n",
    "style.use('bmh')\n",
    "plt.rcParams[\"axes.grid\"] = True\n",
    "plt.rcParams[\"axes.grid.axis\"] = \"both\"\n",
    "plt.rcParams[\"grid.linewidth\"] = 0.5\n",
    "plt.rcParams['hatch.linewidth'] = 0.5\n",
    "plt.rcParams[\"font.family\"] = \"Nimbus Roman\"\n",
    "plt.rcParams[\"hatch.color\"] = \"black\"\n",
    "pd.options.display.max_columns = None\n",
    "pd.options.display.max_rows = None\n",
    "\n",
    "# Data Preprocessing\n",
    "# with open(\"./avg-test-result-in-paper\", \"r\") as f:\n",
    "with open(\"./performance-comparison-table\", \"r\") as f:\n",
    "    df_filebench = pd.read_csv(f, delim_whitespace=True, index_col=None, engine='python')\n",
    "with open(\"./performance-comparison-table-fio\", \"r\") as f:\n",
    "    df_fio = pd.read_csv(f, delim_whitespace=True, index_col=None, engine='python')\n",
    "\n",
    "df = df_fio\n",
    "line_width = 0.5\n",
    "# colors = [\"#2b2d42\", \"#8d99ae\", \"#1a535c\", \"#ef233c\", \"#4ecdc4\"]\n",
    "marks = [\">\", \"x\", \"o\", \"s\", \"D\", \"+\", \"v\", \"<\", \"d\", \"^\", \"p\", \"h\", \"H\", \"X\", \"*\", \"|\", \"_\"]\n",
    "# seven line types\n",
    "line_types = [\"-\", \"--\", \"-.\", \":\", \"-\", \"--\", \"-.\", \":\"]\n",
    "subtitles = [\"(a) FIO-SW (w/o fsync)\", \"(b) Varmail (w/ fsync)\"]\n",
    "fss = df['file_system'].drop_duplicates().reset_index().drop(columns=['index'])['file_system']\n",
    "workloads = [\"varmail.f\"]\n",
    "num_jobs = [1, 2, 3, 4, 5, 6, 7, 8, 9, 10, 11, 12, 13, 14, 15, 16]\n",
    "\n",
    "lines = []\n",
    "cmap = \"tab10\"\n",
    "\n",
    "df = df_filebench\n",
    "bws_killer = df[(df['file_system'] == 'KILLER') & (df['file_bench'] == 'varmail.f')]['iops'].reset_index().drop(columns=['index'])['iops']\n",
    "for idx, fs in enumerate(fss):\n",
    "    if fs == 'KILLER':\n",
    "        continue\n",
    "    bws = df[(df['file_system'] == fs) & (df['file_bench'] == 'varmail.f')]['iops'].reset_index().drop(columns=['index'])['iops']\n",
    "    speedup = bws_killer / bws\n",
    "    print(fs)\n",
    "    print(speedup.min(), speedup.max())"
   ]
  }
 ],
 "metadata": {
  "kernelspec": {
   "display_name": "Python 3",
   "language": "python",
   "name": "python3"
  },
  "language_info": {
   "codemirror_mode": {
    "name": "ipython",
    "version": 3
   },
   "file_extension": ".py",
   "mimetype": "text/x-python",
   "name": "python",
   "nbconvert_exporter": "python",
   "pygments_lexer": "ipython3",
   "version": "3.6.8"
  }
 },
 "nbformat": 4,
 "nbformat_minor": 2
}
