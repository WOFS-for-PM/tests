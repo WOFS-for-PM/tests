{
 "cells": [
  {
   "cell_type": "code",
   "execution_count": 5,
   "metadata": {},
   "outputs": [],
   "source": [
    "from subprocess import Popen\n",
    "import subprocess\n",
    "import os\n",
    "# import matplotlib.pyplot as plt\n",
    "import pyecharts.options as opts\n",
    "from pyecharts.charts import Pie\n",
    "from snapshot_phantomjs import snapshot\n",
    "from pyecharts.render import make_snapshot\n",
    "\n",
    "# abspath = input(\"nova-like-timing-file:\")\n",
    "# abspath = \"/home/deadpool/HUNTER-REPO/tests/killer-study/FIG-MetaBreakDown/M_DATA/fio/randwrite copy/KILLER\"\n",
    "# abspath = \"/home/deadpool/HUNTER-REPO/tests/killer-study/FIG-ST-FIO/LOG\"\n",
    "# abspath = \"/home/deadpool/HUNTER-REPO/tests/killer-study/FIG-MetaBreakDown/M_DATA/fio/write copy/KILLER\"\n",
    "abspath = \"/home/deadpool/HUNTER-REPO/tests/killer-study/GAR\"\n",
    "def extract_value(line, pos: int):\n",
    "    # using awk to extract the value\n",
    "    cmd = \"echo \" + '\"' + line + '\"' + \" | awk '{print $\" + str(pos) + \"}'\"\n",
    "    ret = Popen(cmd, shell=True, stdout=subprocess.PIPE)\n",
    "    return ret.stdout.read().decode(\"utf-8\").strip()\n",
    "name_filters = [\"mount\", \"new_init\", \"write\", \"dax_read\", \"do_cow_write\", \"cow_write\", \"wprotect\"] \n",
    "timers = []\n",
    "with open(abspath, \"r\") as f:\n",
    "    lines = f.readlines()\n",
    "    for line in lines:\n",
    "        if line.count(\":\") != 0:\n",
    "            line = line.strip(\"\\n\")\n",
    "            timer_name = extract_value(line, 1).split(\":\")[0]\n",
    "            # nsW\n",
    "            timer_value = int(extract_value(line, 5).split(\",\")[0])\n",
    "            # s\n",
    "            timer_value_rounded = round(timer_value / 1000 / 1000 / 1000, 3)\n",
    "            if timer_value_rounded > 0 and timer_name not in name_filters:\n",
    "                timers.append((timer_name, timer_value_rounded))\n",
    "\n",
    "pie = Pie(init_opts=opts.InitOpts(js_host=\"./\"))\n",
    "pie.add(\"\", timers, center=[\"40%\", \"50%\"]).set_global_opts(\n",
    "    legend_opts=opts.LegendOpts(type_='scroll', pos_left='80%', orient='vertical'),\n",
    "    title_opts= opts.TitleOpts(title=\"Nova-like-timing-breakdown\")).set_series_opts(label_opts=opts.LabelOpts(formatter=\"{b}: {c}\"))\n",
    "\n",
    "make_snapshot(snapshot, pie.render(), \"nova-like-timing-breakdown.pdf\", is_remove_html=True)\n",
    "pie.render_notebook()\n"
   ]
  }
 ],
 "metadata": {
  "kernelspec": {
   "display_name": "Python 3.6.8 64-bit",
   "language": "python",
   "name": "python3"
  },
  "language_info": {
   "codemirror_mode": {
    "name": "ipython",
    "version": 3
   },
   "file_extension": ".py",
   "mimetype": "text/x-python",
   "name": "python",
   "nbconvert_exporter": "python",
   "pygments_lexer": "ipython3",
   "version": "3.6.8"
  },
  "orig_nbformat": 4,
  "vscode": {
   "interpreter": {
    "hash": "916dbcbb3f70747c44a77c7bcd40155683ae19c65e1c03b4aa3499c5328201f1"
   }
  }
 },
 "nbformat": 4,
 "nbformat_minor": 2
}
