{
 "cells": [
  {
   "cell_type": "code",
   "execution_count": 33,
   "metadata": {},
   "outputs": [],
   "source": [
    "import re\n",
    "import csv\n",
    "import pandas as pd\n",
    "\n",
    "new_df = pd.DataFrame(columns=['workload', 'file_system', 'meta_total(GiB)', 'meta_time(s)', 'data_total(GiB)', 'data_time(s)', 'meta_I/O_occupation(%)', 'meta_time_occupation(%)'])\n",
    "\n",
    "with open('./metadata-trace-filebench-results', 'r') as f:\n",
    "    df = pd.read_csv(f, delim_whitespace=True, index_col=None, engine='python')\n",
    "\n",
    "df[\"workload\"] = df[\"workload\"].map({\"fileserver.f\": \"FSR\", \"varmail.f\": \"VML\", \"webserver.f\": \"WSR\", \"webproxy.f\": \"WPX\"})\n",
    "df[\"meta_total(GiB)\"] = df['meta_total(bytes)'] / 1024 / 1024 / 1024 \n",
    "df[\"meta_time(s)\"] = df['meta_time(ns)'] / 1000000000\n",
    "df[\"data_total(GiB)\"] = (df['data_write(bytes)'] + df['data_read(bytes)']) / 1024 / 1024 / 1024\n",
    "df[\"data_time(s)\"] = (df['data_write_time(ns)'] + df['data_read_time(ns)']) / 1000000000\n",
    "df[\"meta_I/O_occupation(%)\"] = df['meta_total(GiB)'] * 100 / (df['data_total(GiB)'] + df['meta_total(GiB)'])\n",
    "df[\"meta_time_occupation(%)\"] = df['meta_time(s)'] * 100 / (df['data_time(s)'] + df['meta_time(s)'])\n",
    "\n",
    "common_cols = ['workload', 'file_system', 'meta_total(GiB)', 'meta_time(s)', 'data_total(GiB)', 'data_time(s)', 'meta_I/O_occupation(%)', 'meta_time_occupation(%)']\n",
    "\n",
    "new_df = new_df.append(df[common_cols], ignore_index=True)\n",
    "\n",
    "with open('./metadata-trace-fio-results', 'r') as f:\n",
    "    df = pd.read_csv(f, delim_whitespace=True, index_col=None, engine='python')\n",
    "\n",
    "df[\"workload\"] = df[\"workload\"].map({\"write\": \"SW\", \"randwrite\": \"RW\"}) \n",
    "df[\"meta_total(GiB)\"] = df['meta_total(bytes)'] / 1024 / 1024 / 1024 \n",
    "df[\"meta_time(s)\"] = df['meta_time(ns)'] / 1000000000\n",
    "df[\"data_total(GiB)\"] = (df['data_write(bytes)'] + 0) / 1024 / 1024 / 1024\n",
    "df[\"data_time(s)\"] = (df['data_time(ns)'] + 0) / 1000000000\n",
    "df[\"meta_I/O_occupation(%)\"] = df['meta_total(GiB)'] * 100 / (df['data_total(GiB)'] + df['meta_total(GiB)'])\n",
    "df[\"meta_time_occupation(%)\"] = df['meta_time(s)'] * 100 / (df['data_time(s)'] + df['meta_time(s)'])\n",
    "new_df = new_df.append(df[common_cols], ignore_index=True)\n",
    "new_df[\"file_system\"] = new_df[\"file_system\"].map({\"NOVA\": \"NA\", \"PMFS\": \"PS\"})\n",
    "workload_order = {'FSR': 1, 'VML': 2, 'WSR': 3, 'WPX': 4, 'SW': 5, 'RW': 6}\n",
    "new_df_sort = new_df.sort_values(by=['workload'], key=lambda x: x.map(workload_order))\n",
    "new_df_sort.to_latex('./metadata-trace-results.tex', index=False, escape=False, column_format='c|c|cccc|cc', float_format=\"%.1f\", header=[\"WL\", \"FS\", \"MIO\", \"MT\", \"DIO\", \"DT\", \"IO/\\%\", \"T/\\%\"])\n",
    "new_df_sort.to_csv('./metadata-trace-results.csv', index=False, float_format=\"%.1f\")\n",
    "\n",
    "T_IO_df = pd.DataFrame(columns=['T/IO', 'FS', 'FSR', 'VML', 'WSR', 'WPX', 'SW', 'RW'])\n",
    "division = [round(elem, 1) for elem in list((new_df_sort[\"meta_time_occupation(%)\"]/new_df_sort[\"meta_I/O_occupation(%)\"]).unique())]\n",
    "NOVA_division = ['T/IO', \"NOVA\"] + [ elem if idx % 2 == 0 else None for idx, elem in enumerate(division)]\n",
    "PMFS_division = ['T/IO', \"PMFS\"] + [ elem if idx % 2 == 1 else None for idx, elem in enumerate(division)]\n",
    "# remove None\n",
    "NOVA_division = [elem for elem in NOVA_division if elem is not None]\n",
    "PMFS_division = [elem for elem in PMFS_division if elem is not None]\n",
    "\n",
    "T_IO_df.loc[0] = NOVA_division\n",
    "T_IO_df.loc[1] = PMFS_division\n",
    "T_IO_df\n",
    "\n",
    "T_IO_df.to_latex('./T_IO_division.tex', index=False, escape=False, column_format='c|cccccc', float_format=\"%.1f\")"
   ]
  }
 ],
 "metadata": {
  "kernelspec": {
   "display_name": "Python 3",
   "language": "python",
   "name": "python3"
  },
  "language_info": {
   "codemirror_mode": {
    "name": "ipython",
    "version": 3
   },
   "file_extension": ".py",
   "mimetype": "text/x-python",
   "name": "python",
   "nbconvert_exporter": "python",
   "pygments_lexer": "ipython3",
   "version": "3.6.8"
  },
  "orig_nbformat": 4
 },
 "nbformat": 4,
 "nbformat_minor": 2
}
