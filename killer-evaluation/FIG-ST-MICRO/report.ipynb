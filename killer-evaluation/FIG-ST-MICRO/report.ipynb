{
 "cells": [
  {
   "cell_type": "markdown",
   "metadata": {},
   "source": [
    "# Let's calc how much performance of PM are wasted"
   ]
  },
  {
   "cell_type": "code",
   "execution_count": 3,
   "metadata": {},
   "outputs": [
    {
     "ename": "FileNotFoundError",
     "evalue": "[Errno 2] No such file or directory: './performance-comparison-table'",
     "output_type": "error",
     "traceback": [
      "\u001b[0;31m---------------------------------------------------------------------------\u001b[0m",
      "\u001b[0;31mFileNotFoundError\u001b[0m                         Traceback (most recent call last)",
      "\u001b[0;32m<ipython-input-3-52757e7414a2>\u001b[0m in \u001b[0;36m<module>\u001b[0;34m\u001b[0m\n\u001b[1;32m      7\u001b[0m \u001b[0;31m# Data Preprocessing\u001b[0m\u001b[0;34m\u001b[0m\u001b[0;34m\u001b[0m\u001b[0;34m\u001b[0m\u001b[0m\n\u001b[1;32m      8\u001b[0m \u001b[0;31m# with open(\"./avg-test-result-in-paper\", \"r\") as f:\u001b[0m\u001b[0;34m\u001b[0m\u001b[0;34m\u001b[0m\u001b[0;34m\u001b[0m\u001b[0m\n\u001b[0;32m----> 9\u001b[0;31m \u001b[0;32mwith\u001b[0m \u001b[0mopen\u001b[0m\u001b[0;34m(\u001b[0m\u001b[0;34m\"./performance-comparison-table\"\u001b[0m\u001b[0;34m,\u001b[0m \u001b[0;34m\"r\"\u001b[0m\u001b[0;34m)\u001b[0m \u001b[0;32mas\u001b[0m \u001b[0mf\u001b[0m\u001b[0;34m:\u001b[0m\u001b[0;34m\u001b[0m\u001b[0;34m\u001b[0m\u001b[0m\n\u001b[0m\u001b[1;32m     10\u001b[0m     \u001b[0mdf\u001b[0m \u001b[0;34m=\u001b[0m \u001b[0mpd\u001b[0m\u001b[0;34m.\u001b[0m\u001b[0mread_csv\u001b[0m\u001b[0;34m(\u001b[0m\u001b[0mf\u001b[0m\u001b[0;34m,\u001b[0m \u001b[0mdelim_whitespace\u001b[0m\u001b[0;34m=\u001b[0m\u001b[0;32mTrue\u001b[0m\u001b[0;34m,\u001b[0m \u001b[0mindex_col\u001b[0m\u001b[0;34m=\u001b[0m\u001b[0;32mNone\u001b[0m\u001b[0;34m,\u001b[0m \u001b[0mengine\u001b[0m\u001b[0;34m=\u001b[0m\u001b[0;34m'python'\u001b[0m\u001b[0;34m)\u001b[0m\u001b[0;34m\u001b[0m\u001b[0;34m\u001b[0m\u001b[0m\n\u001b[1;32m     11\u001b[0m \u001b[0;34m\u001b[0m\u001b[0m\n",
      "\u001b[0;31mFileNotFoundError\u001b[0m: [Errno 2] No such file or directory: './performance-comparison-table'"
     ]
    }
   ],
   "source": [
    "# ipython -c \"%run plot.ipynb\"\n",
    "\n",
    "import pandas as pd\n",
    "import numpy as np\n",
    "\n",
    "\n",
    "# Data Preprocessing\n",
    "# with open(\"./avg-test-result-in-paper\", \"r\") as f:\n",
    "with open(\"./performance-comparison-table\", \"r\") as f:\n",
    "    df = pd.read_csv(f, delim_whitespace=True, index_col=None, engine='python')\n",
    "\n",
    "df.drop(df[df['file_system'] == \"PMM\"].index, inplace=True)\n",
    "\n",
    "fss = df['file_system'].drop_duplicates().reset_index().drop(columns=['index'])['file_system']\n",
    "ops = [\"seq-write\", \"rnd-write\", ]\n",
    "fsize = [1024, 2048, 4096, 8192, 12288, 16384, 20480, 24576, 28672, 32768]\n",
    "\n",
    "\n",
    "# gs0 = gridspec.GridSpec(2, 2, figure=fig, wspace=0.3, hspace=0.6)\n",
    "wasted_percentage = []\n",
    "cmap = \"tab10\"\n",
    "for op_idx, op in enumerate(ops):\n",
    "    # subfig = plt.subplot(gs0[op_idx])\n",
    "    for idx, fs in enumerate(fss):\n",
    "        if fs == \"PMM\" or fs == \"KILLER\" or fs == \"SplitFS-FIO\":\n",
    "            continue\n",
    "        wasted_percentage.append(1 - df[(df['file_system'] == fs) & (df['ops'] == op)]['bandwidth(MiB/s)'] / 2259.2)\n",
    "print(wasted_percentage)\n",
    "print(np.min(wasted_percentage))\n",
    "print(np.max(wasted_percentage))"
   ]
  },
  {
   "cell_type": "markdown",
   "metadata": {},
   "source": [
    "# Let's calc how much performance of PM are SplitFS achieve"
   ]
  },
  {
   "cell_type": "code",
   "execution_count": null,
   "metadata": {},
   "outputs": [
    {
     "name": "stdout",
     "output_type": "stream",
     "text": [
      "0.46078257790368277\n",
      "0.6311968838526912\n",
      "0.36030453257790374\n",
      "0.41474858356940514\n"
     ]
    }
   ],
   "source": [
    "# ipython -c \"%run plot.ipynb\"\n",
    "\n",
    "import pandas as pd\n",
    "import numpy as np\n",
    "\n",
    "\n",
    "# Data Preprocessing\n",
    "# with open(\"./avg-test-result-in-paper\", \"r\") as f:\n",
    "with open(\"./performance-comparison-table\", \"r\") as f:\n",
    "    df = pd.read_csv(f, delim_whitespace=True, index_col=None, engine='python')\n",
    "\n",
    "df.drop(df[df['file_system'] == \"PMM\"].index, inplace=True)\n",
    "\n",
    "fss = df['file_system'].drop_duplicates().reset_index().drop(columns=['index'])['file_system']\n",
    "ops = [\"seq-write\", \"rnd-write\", ]\n",
    "fsize = [1024, 2048, 4096, 8192, 12288, 16384, 20480, 24576, 28672, 32768]\n",
    "\n",
    "\n",
    "# gs0 = gridspec.GridSpec(2, 2, figure=fig, wspace=0.3, hspace=0.6)\n",
    "cmap = \"tab10\"\n",
    "for op_idx, op in enumerate(ops):\n",
    "    # subfig = plt.subplot(gs0[op_idx])\n",
    "    for idx, fs in enumerate(fss):\n",
    "        if fs == \"SplitFS-FIO\":\n",
    "            print((df[(df['file_system'] == fs) & (df['ops'] == op)]['bandwidth(MiB/s)'] / 2259.2).min())\n",
    "            print((df[(df['file_system'] == fs) & (df['ops'] == op)]['bandwidth(MiB/s)'] / 2259.2).max())\n"
   ]
  },
  {
   "cell_type": "markdown",
   "metadata": {},
   "source": [
    "# Let's see how much performance of KILLER than others "
   ]
  },
  {
   "cell_type": "code",
   "execution_count": 7,
   "metadata": {},
   "outputs": [
    {
     "name": "stdout",
     "output_type": "stream",
     "text": [
      "[   bandwidth(MiB/s)\n",
      "0          1.778495,    bandwidth(MiB/s)\n",
      "0          1.860517,    bandwidth(MiB/s)\n",
      "0          1.819582,    bandwidth(MiB/s)\n",
      "0          1.896789,    bandwidth(MiB/s)\n",
      "0          4.398936,    bandwidth(MiB/s)\n",
      "0          5.783217,    bandwidth(MiB/s)\n",
      "0          2.238431,    bandwidth(MiB/s)\n",
      "0          2.382227,    bandwidth(MiB/s)\n",
      "0          2.434354,    bandwidth(MiB/s)\n",
      "0          1.587019,    bandwidth(MiB/s)\n",
      "0          5.103211,    bandwidth(MiB/s)\n",
      "0          5.400485,    bandwidth(MiB/s)\n",
      "0          1.327575,    bandwidth(MiB/s)\n",
      "0          1.337349,    bandwidth(MiB/s)\n",
      "0          1.230296,    bandwidth(MiB/s)\n",
      "0          1.058824,    bandwidth(MiB/s)\n",
      "0          2.022267,    bandwidth(MiB/s)\n",
      "0          2.006024,    bandwidth(MiB/s)\n",
      "0          1.398347,    bandwidth(MiB/s)\n",
      "0          1.419463,    bandwidth(MiB/s)\n",
      "0          1.194072,    bandwidth(MiB/s)\n",
      "0          1.066163,    bandwidth(MiB/s)\n",
      "0          1.978947,    bandwidth(MiB/s)\n",
      "0          1.958333]\n",
      "1.0588235294117647\n",
      "5.783216783216783\n"
     ]
    }
   ],
   "source": [
    "# ipython -c \"%run plot.ipynb\"\n",
    "\n",
    "import pandas as pd\n",
    "import numpy as np\n",
    "\n",
    "\n",
    "# Data Preprocessing\n",
    "# with open(\"./avg-test-result-in-paper\", \"r\") as f:\n",
    "with open(\"./performance-comparison-table-small\", \"r\") as f:\n",
    "    df = pd.read_csv(f, delim_whitespace=True, index_col=None, engine='python')\n",
    "\n",
    "df.drop(df[df['file_system'] == \"PMM\"].index, inplace=True)\n",
    "\n",
    "fss = df['file_system'].drop_duplicates().reset_index().drop(columns=['index'])['file_system']\n",
    "ops = [\"rnd-write\", \"seq-write\", \"seq-read\", \"rnd-read\"]\n",
    "fsize = [1024, 2048, 4096, 8192, 12288, 16384, 20480, 24576, 28672, 32768]\n",
    "\n",
    "\n",
    "# gs0 = gridspec.GridSpec(2, 2, figure=fig, wspace=0.3, hspace=0.6)\n",
    "improvement = []\n",
    "cmap = \"tab10\"\n",
    "for op_idx, op in enumerate(ops):\n",
    "    # subfig = plt.subplot(gs0[op_idx])\n",
    "    for idx, fs in enumerate(fss):\n",
    "        if fs == \"PMM\" or fs == \"KILLER\":\n",
    "            continue\n",
    "        improvement.append(df[(df['file_system'] == \"KILLER\") & (df['ops'] == op)]['bandwidth(MiB/s)'].reset_index().drop(columns=['index']) / df[(df['file_system'] == fs) & (df['ops'] == op)]['bandwidth(MiB/s)'].reset_index().drop(columns=['index']))\n",
    "print(improvement)\n",
    "print(np.min(improvement))\n",
    "print(np.max(improvement))"
   ]
  },
  {
   "cell_type": "markdown",
   "metadata": {},
   "source": [
    "# Let's see how much seqread performance of KILLER than others"
   ]
  },
  {
   "cell_type": "code",
   "execution_count": 2,
   "metadata": {},
   "outputs": [
    {
     "name": "stdout",
     "output_type": "stream",
     "text": [
      "[    bandwidth(MiB/s)\n",
      "0           0.991045\n",
      "1           1.072761\n",
      "2           1.195730\n",
      "3           1.297980\n",
      "4           1.341398\n",
      "5           1.347944\n",
      "6           1.330693\n",
      "7           1.306699\n",
      "8           1.256210\n",
      "9           1.262635\n",
      "10          1.226800\n",
      "11          1.233564]\n",
      "0.991044776119403\n",
      "1.347943722943723\n"
     ]
    }
   ],
   "source": [
    "# ipython -c \"%run plot.ipynb\"\n",
    "\n",
    "import pandas as pd\n",
    "import numpy as np\n",
    "\n",
    "\n",
    "# Data Preprocessing\n",
    "# with open(\"./avg-test-result-in-paper\", \"r\") as f:\n",
    "with open(\"./performance-comparison-table-bsize\", \"r\") as f:\n",
    "    df = pd.read_csv(f, delim_whitespace=True, index_col=None, engine='python')\n",
    "\n",
    "df.drop(df[df['file_system'] == \"PMM\"].index, inplace=True)\n",
    "\n",
    "# fss = df['file_system'].drop_duplicates().reset_index().drop(columns=['index'])['file_system']\n",
    "fss = [\"KILLER\", \"NOVA\"]\n",
    "ops = [\"seq-read\"]\n",
    "fsize = [1024, 2048, 4096, 8192, 12288, 16384, 20480, 24576, 28672, 32768]\n",
    "\n",
    "\n",
    "# gs0 = gridspec.GridSpec(2, 2, figure=fig, wspace=0.3, hspace=0.6)\n",
    "improvement = []\n",
    "cmap = \"tab10\"\n",
    "for op_idx, op in enumerate(ops):\n",
    "    # subfig = plt.subplot(gs0[op_idx])\n",
    "    for idx, fs in enumerate(fss):\n",
    "        if fs == \"PMM\" or fs == \"KILLER\":\n",
    "            continue\n",
    "        improvement.append(df[(df['file_system'] == \"KILLER\") & (df['ops'] == op)]['bandwidth(MiB/s)'].reset_index().drop(columns=['index']) / df[(df['file_system'] == fs) & (df['ops'] == op)]['bandwidth(MiB/s)'].reset_index().drop(columns=['index']))\n",
    "print(improvement)\n",
    "print(np.min(improvement))\n",
    "print(np.max(improvement))"
   ]
  }
 ],
 "metadata": {
  "kernelspec": {
   "display_name": "Python 3",
   "language": "python",
   "name": "python3"
  },
  "language_info": {
   "codemirror_mode": {
    "name": "ipython",
    "version": 3
   },
   "file_extension": ".py",
   "mimetype": "text/x-python",
   "name": "python",
   "nbconvert_exporter": "python",
   "pygments_lexer": "ipython3",
   "version": "3.6.8"
  },
  "orig_nbformat": 4
 },
 "nbformat": 4,
 "nbformat_minor": 2
}
