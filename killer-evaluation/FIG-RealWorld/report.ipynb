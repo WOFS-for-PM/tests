{
 "cells": [
  {
   "cell_type": "code",
   "execution_count": 4,
   "metadata": {},
   "outputs": [
    {
     "name": "stdout",
     "output_type": "stream",
     "text": [
      "max_ratio of fill_seq(MB/s): 6.728132387706856\n",
      "min_ratio of fill_seq(MB/s): 1.260128403807837\n",
      "max_ratio of fillrandom(MB/s): 5.20899470899471\n",
      "min_ratio of fillrandom(MB/s): 1.3645183645183645\n",
      "max_ratio of appendrandom(MB/s): 3.928571428571429\n",
      "min_ratio of appendrandom(MB/s): 1.2612612612612613\n",
      "max_ratio of updaterandom(MB/s): 4.459067357512954\n",
      "min_ratio of updaterandom(MB/s): 1.20094892548144\n"
     ]
    }
   ],
   "source": [
    "# ipython -c \"%run plot.ipynb\"\n",
    "\n",
    "import pandas as pd\n",
    "\n",
    "with open(\"./performance-comparison-table-rocksdb\", \"r\") as f:\n",
    "    df_rdb = pd.read_csv(f, delim_whitespace=True, index_col=None, engine='python')\n",
    "\n",
    "# fill_seq(MB/s) fillrandom(MB/s) appendrandom(MB/s) updaterandom(MB/s)\n",
    "workloads = [\"fill_seq(MB/s)\", \"fillrandom(MB/s)\", \"appendrandom(MB/s)\", \"updaterandom(MB/s)\"]\n",
    "for workload in workloads:\n",
    "    max_ratio = df_rdb[df_rdb[\"file_system\"] == \"KILLER\"][workload].iloc[0] / df_rdb[df_rdb[\"file_system\"] == \"EXT4-DAX\"][workload].iloc[0]\n",
    "    print(\"max_ratio of {}: {}\".format(workload, max_ratio))\n",
    "    min_ratio = df_rdb[df_rdb[\"file_system\"]  == \"KILLER\"][workload].iloc[0] / df_rdb[df_rdb[\"file_system\"]  == \"PMFS\"][workload].iloc[0]\n",
    "    print(\"min_ratio of {}: {}\".format(workload, min_ratio))"
   ]
  }
 ],
 "metadata": {
  "kernelspec": {
   "display_name": "Python 3",
   "language": "python",
   "name": "python3"
  },
  "language_info": {
   "codemirror_mode": {
    "name": "ipython",
    "version": 3
   },
   "file_extension": ".py",
   "mimetype": "text/x-python",
   "name": "python",
   "nbconvert_exporter": "python",
   "pygments_lexer": "ipython3",
   "version": "3.6.8"
  },
  "orig_nbformat": 4
 },
 "nbformat": 4,
 "nbformat_minor": 2
}
