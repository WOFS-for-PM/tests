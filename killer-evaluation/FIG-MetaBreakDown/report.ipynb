{
 "cells": [
  {
   "cell_type": "markdown",
   "metadata": {},
   "source": [
    "# Calculation of Metadata Amplification"
   ]
  },
  {
   "cell_type": "code",
   "execution_count": 3,
   "metadata": {},
   "outputs": [
    {
     "name": "stdout",
     "output_type": "stream",
     "text": [
      "workload:  write\n",
      "software_meta_IO:  5.118775148876011\n",
      "real_meta_IO:  11.26172947883606\n",
      "workload:  randwrite\n",
      "software_meta_IO:  5.118775148876011\n",
      "real_meta_IO:  12.526299238204956\n",
      "workload:  fileserver.f\n",
      "software_meta_IO:  4.144222942180932\n",
      "real_meta_IO:  8.197546826675534\n",
      "workload:  varmail.f\n",
      "software_meta_IO:  4.509360040538013\n",
      "real_meta_IO:  21.92910734936595\n",
      "workload:  webserver.f\n",
      "software_meta_IO:  0.63565603364259\n",
      "real_meta_IO:  0.0\n",
      "workload:  webproxy.f\n",
      "software_meta_IO:  2.7977725798264146\n",
      "real_meta_IO:  11.531339689157903\n",
      "workload:  write\n",
      "software_meta_IO:  2.8710703253746033\n",
      "real_meta_IO:  9.23071002960205\n",
      "workload:  randwrite\n",
      "software_meta_IO:  2.8146859146654606\n",
      "real_meta_IO:  13.51009464263916\n",
      "workload:  fileserver.f\n",
      "software_meta_IO:  4.967619827948511\n",
      "real_meta_IO:  13.133158531971276\n",
      "workload:  varmail.f\n",
      "software_meta_IO:  30.896117341704667\n",
      "real_meta_IO:  16.81608377210796\n",
      "workload:  webserver.f\n",
      "software_meta_IO:  1.301316793076694\n",
      "real_meta_IO:  0.0\n",
      "workload:  webproxy.f\n",
      "software_meta_IO:  30.250119394622743\n",
      "real_meta_IO:  10.458660976029932\n"
     ]
    }
   ],
   "source": [
    "import pandas as pd\n",
    "import numpy as np\n",
    "\n",
    "files = [\"./performance-comparison-table-NOVA\", \"./performance-comparison-table-PMFS\"] \n",
    "workloads = [\"write\", \"randwrite\", \"fileserver.f\", \"varmail.f\", \"webserver.f\", \"webproxy.f\"]\n",
    "\n",
    "for fid, file in enumerate(files):\n",
    "    with open(file, \"r\") as f:\n",
    "        df = pd.read_csv(f, delim_whitespace=True, engine='python')\n",
    "\n",
    "    for workload_idx, workload in enumerate(workloads):\n",
    "        data_write = df[df['workloads'] == workload][\"data_write(bytes)\"].iloc[0]\n",
    "        data_read = df[df['workloads'] == workload][\"data_read(bytes)\"].iloc[0]\n",
    "        media_write = df[df['workloads'] == workload][\"media_write(byte)\"].iloc[0]\n",
    "        media_read = df[df['workloads'] == workload][\"media_read(byte)\"].iloc[0]\n",
    "        meta_write = df[df['workloads'] == workload][\"meta_write(bytes)\"].iloc[0]\n",
    "        meta_read = df[df['workloads'] == workload][\"meta_read(bytes)\"].iloc[0]\n",
    "\n",
    "        software_meta_IO = meta_write + meta_read\n",
    "        real_meta_IO = 0 if media_write + media_read - media_write - data_write - data_read < 0 else media_write + media_read - media_write - data_write - data_read \n",
    "\n",
    "        print(\"workload: \", workload)\n",
    "        print(\"software_meta_IO: \", software_meta_IO / 1024 / 1024 / 1024)\n",
    "        print(\"real_meta_IO: \", real_meta_IO / 1024 / 1024 / 1024)\n"
   ]
  }
 ],
 "metadata": {
  "kernelspec": {
   "display_name": "Python 3",
   "language": "python",
   "name": "python3"
  },
  "language_info": {
   "codemirror_mode": {
    "name": "ipython",
    "version": 3
   },
   "file_extension": ".py",
   "mimetype": "text/x-python",
   "name": "python",
   "nbconvert_exporter": "python",
   "pygments_lexer": "ipython3",
   "version": "3.6.8"
  },
  "orig_nbformat": 4
 },
 "nbformat": 4,
 "nbformat_minor": 2
}
