{
 "cells": [
  {
   "cell_type": "code",
   "execution_count": 4,
   "metadata": {},
   "outputs": [
    {
     "name": "stdout",
     "output_type": "stream",
     "text": [
      "fileserver NOVA 160 42\n",
      "fileserver KILLER 181 39\n",
      "fileserver SplitFS-FILEBENCH 210 105\n",
      "fileserver EXT4-DAX 90 19\n",
      "fileserver XFS-DAX 102 18\n",
      "ycsbLoadA NOVA 142 65\n",
      "ycsbLoadA KILLER 108 31\n",
      "ycsbLoadA EXT4-DAX 116 35\n",
      "ycsbLoadA XFS-DAX 190 72\n",
      "ycsbLoadA SplitFS-YCSB 275 78\n",
      "varmail NOVA 150 37\n",
      "varmail KILLER 192 59\n",
      "varmail SplitFS-FILEBENCH 874 427\n",
      "varmail EXT4-DAX 852 335\n",
      "varmail XFS-DAX 780 630\n"
     ]
    }
   ],
   "source": [
    "import pandas as pd\n",
    "import numpy as np\n",
    "from sklearn.cluster import KMeans\n",
    "import sklearn\n",
    "\n",
    "# Data Preprocessing\n",
    "# with open(·\"./avg-test-result-in-paper\", \"r\") as f:\n",
    "with open(\"./performance-comparison-table\", \"r\") as f:\n",
    "    df = pd.read_csv(f, delim_whitespace=True, index_col=None, engine='python')\n",
    "\n",
    "# print(df.loc[df['workload'] == 'yscbLoadA'] )\n",
    "fss = df['file_system'].drop_duplicates().reset_index().drop(columns=['index'])['file_system']\n",
    "workloads = df['workload'].drop_duplicates().reset_index().drop(columns=['index'])['workload']\n",
    "\n",
    "for workload in workloads:\n",
    "    for fs in fss:\n",
    "        if fs == \"SplitFS-YCSB\" and (workload == \"fileserver\" or workload == \"varmail\"):\n",
    "            continue\n",
    "        if fs == \"SplitFS-FILEBENCH\" and workload == \"ycsbLoadA\":\n",
    "            continue\n",
    "        # print(workload, fs)\n",
    "        peak_mems = df.loc[(df['file_system'] == fs) & (df['workload'] == workload)]['peak_mem(KiB)']\n",
    "        average_mems = df.loc[(df['file_system'] == fs) & (df['workload'] == workload)]['avg_mem(KiB)']\n",
    "\n",
    "        # remove the abnormal data using k-means\n",
    "        mems = list(zip(peak_mems, average_mems))\n",
    "        kmeans = KMeans(n_clusters=2, random_state=0).fit(mems)\n",
    "        # obtain cluster-0 points\n",
    "        cluster_0 = [mems[i] for i in range(len(mems)) if kmeans.labels_[i] == 0]\n",
    "        # obtain cluster-1 points\n",
    "        cluster_1 = [mems[i] for i in range(len(mems)) if kmeans.labels_[i] == 1]\n",
    "        \n",
    "        valid_mems = cluster_0 if len(cluster_0) > len(cluster_1) else cluster_1\n",
    "        valid_mems = np.array(valid_mems)\n",
    "        peak_mems = valid_mems[:, 0]\n",
    "        average_mems = valid_mems[:, 1]\n",
    "        peak_mem = np.mean(peak_mems)\n",
    "        average_mem = np.mean(average_mems)\n",
    "\n",
    "        print(workload, fs, int(peak_mem/1024), int(average_mem/1024))\n"
   ]
  }
 ],
 "metadata": {
  "kernelspec": {
   "display_name": "Python 3",
   "language": "python",
   "name": "python3"
  },
  "language_info": {
   "codemirror_mode": {
    "name": "ipython",
    "version": 3
   },
   "file_extension": ".py",
   "mimetype": "text/x-python",
   "name": "python",
   "nbconvert_exporter": "python",
   "pygments_lexer": "ipython3",
   "version": "3.6.8"
  },
  "orig_nbformat": 4
 },
 "nbformat": 4,
 "nbformat_minor": 2
}
