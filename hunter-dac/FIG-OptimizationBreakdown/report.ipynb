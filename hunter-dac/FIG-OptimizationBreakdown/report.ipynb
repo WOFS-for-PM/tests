{
 "cells": [
  {
   "cell_type": "code",
   "execution_count": 1,
   "metadata": {},
   "outputs": [
    {
     "data": {
      "text/html": [
       "<div>\n",
       "<style scoped>\n",
       "    .dataframe tbody tr th:only-of-type {\n",
       "        vertical-align: middle;\n",
       "    }\n",
       "\n",
       "    .dataframe tbody tr th {\n",
       "        vertical-align: top;\n",
       "    }\n",
       "\n",
       "    .dataframe thead th {\n",
       "        text-align: right;\n",
       "    }\n",
       "</style>\n",
       "<table border=\"1\" class=\"dataframe\">\n",
       "  <thead>\n",
       "    <tr style=\"text-align: right;\">\n",
       "      <th></th>\n",
       "      <th>file_system</th>\n",
       "      <th>file_size</th>\n",
       "      <th>bandwidth(MiB/s)</th>\n",
       "    </tr>\n",
       "  </thead>\n",
       "  <tbody>\n",
       "    <tr>\n",
       "      <th>0</th>\n",
       "      <td>HUNTER-LOSELAYOUT-SYNC</td>\n",
       "      <td>1024</td>\n",
       "      <td>943</td>\n",
       "    </tr>\n",
       "    <tr>\n",
       "      <th>1</th>\n",
       "      <td>HUNTER-LOSELAYOUT-SYNC</td>\n",
       "      <td>2048</td>\n",
       "      <td>951</td>\n",
       "    </tr>\n",
       "    <tr>\n",
       "      <th>2</th>\n",
       "      <td>HUNTER-LOSELAYOUT-SYNC</td>\n",
       "      <td>4096</td>\n",
       "      <td>940</td>\n",
       "    </tr>\n",
       "    <tr>\n",
       "      <th>3</th>\n",
       "      <td>HUNTER-LOSELAYOUT-SYNC</td>\n",
       "      <td>8192</td>\n",
       "      <td>947</td>\n",
       "    </tr>\n",
       "    <tr>\n",
       "      <th>4</th>\n",
       "      <td>HUNTER-LOSELAYOUT-SYNC</td>\n",
       "      <td>16384</td>\n",
       "      <td>925</td>\n",
       "    </tr>\n",
       "  </tbody>\n",
       "</table>\n",
       "</div>"
      ],
      "text/plain": [
       "              file_system  file_size  bandwidth(MiB/s)\n",
       "0  HUNTER-LOSELAYOUT-SYNC       1024               943\n",
       "1  HUNTER-LOSELAYOUT-SYNC       2048               951\n",
       "2  HUNTER-LOSELAYOUT-SYNC       4096               940\n",
       "3  HUNTER-LOSELAYOUT-SYNC       8192               947\n",
       "4  HUNTER-LOSELAYOUT-SYNC      16384               925"
      ]
     },
     "execution_count": 1,
     "metadata": {},
     "output_type": "execute_result"
    }
   ],
   "source": [
    "import pandas as pd\n",
    "\n",
    "with open(\"./performance-comparison-table\", \"r\") as f:\n",
    "    df = pd.read_csv(f, delim_whitespace=True, engine='python')\n",
    "df.head()"
   ]
  },
  {
   "cell_type": "markdown",
   "metadata": {},
   "source": [
    "# The performance improvement of HUNTER over other PM file systems in Fileserver. "
   ]
  },
  {
   "cell_type": "code",
   "execution_count": 3,
   "metadata": {},
   "outputs": [
    {
     "data": {
      "text/html": [
       "<div>\n",
       "<style scoped>\n",
       "    .dataframe tbody tr th:only-of-type {\n",
       "        vertical-align: middle;\n",
       "    }\n",
       "\n",
       "    .dataframe tbody tr th {\n",
       "        vertical-align: top;\n",
       "    }\n",
       "\n",
       "    .dataframe thead th {\n",
       "        text-align: right;\n",
       "    }\n",
       "</style>\n",
       "<table border=\"1\" class=\"dataframe\">\n",
       "  <thead>\n",
       "    <tr style=\"text-align: right;\">\n",
       "      <th></th>\n",
       "      <th>index</th>\n",
       "      <th>file_system</th>\n",
       "      <th>file_size</th>\n",
       "      <th>bandwidth(MiB/s)</th>\n",
       "      <th>HUNTER-SYNC</th>\n",
       "    </tr>\n",
       "  </thead>\n",
       "  <tbody>\n",
       "    <tr>\n",
       "      <th>0</th>\n",
       "      <td>21</td>\n",
       "      <td>HUNTER</td>\n",
       "      <td>1024</td>\n",
       "      <td>2096</td>\n",
       "      <td>2.417532</td>\n",
       "    </tr>\n",
       "    <tr>\n",
       "      <th>1</th>\n",
       "      <td>22</td>\n",
       "      <td>HUNTER</td>\n",
       "      <td>2048</td>\n",
       "      <td>2135</td>\n",
       "      <td>2.359116</td>\n",
       "    </tr>\n",
       "    <tr>\n",
       "      <th>2</th>\n",
       "      <td>23</td>\n",
       "      <td>HUNTER</td>\n",
       "      <td>4096</td>\n",
       "      <td>2087</td>\n",
       "      <td>2.368899</td>\n",
       "    </tr>\n",
       "    <tr>\n",
       "      <th>3</th>\n",
       "      <td>24</td>\n",
       "      <td>HUNTER</td>\n",
       "      <td>8192</td>\n",
       "      <td>2094</td>\n",
       "      <td>2.318937</td>\n",
       "    </tr>\n",
       "    <tr>\n",
       "      <th>4</th>\n",
       "      <td>25</td>\n",
       "      <td>HUNTER</td>\n",
       "      <td>16384</td>\n",
       "      <td>2044</td>\n",
       "      <td>2.314836</td>\n",
       "    </tr>\n",
       "    <tr>\n",
       "      <th>5</th>\n",
       "      <td>26</td>\n",
       "      <td>HUNTER</td>\n",
       "      <td>32768</td>\n",
       "      <td>1881</td>\n",
       "      <td>2.108744</td>\n",
       "    </tr>\n",
       "    <tr>\n",
       "      <th>6</th>\n",
       "      <td>27</td>\n",
       "      <td>HUNTER</td>\n",
       "      <td>65536</td>\n",
       "      <td>1866</td>\n",
       "      <td>2.098988</td>\n",
       "    </tr>\n",
       "  </tbody>\n",
       "</table>\n",
       "</div>"
      ],
      "text/plain": [
       "   index file_system  file_size  bandwidth(MiB/s)  HUNTER-SYNC\n",
       "0     21      HUNTER       1024              2096     2.417532\n",
       "1     22      HUNTER       2048              2135     2.359116\n",
       "2     23      HUNTER       4096              2087     2.368899\n",
       "3     24      HUNTER       8192              2094     2.318937\n",
       "4     25      HUNTER      16384              2044     2.314836\n",
       "5     26      HUNTER      32768              1881     2.108744\n",
       "6     27      HUNTER      65536              1866     2.098988"
      ]
     },
     "execution_count": 3,
     "metadata": {},
     "output_type": "execute_result"
    }
   ],
   "source": [
    "fs_names = df['file_system'].drop_duplicates().reset_index().drop(columns=['index'])['file_system']\n",
    "\n",
    "hunter =  df[df[\"file_system\"] == \"HUNTER\"].copy().reset_index()\n",
    "\n",
    "fs = df[df[\"file_system\"] == \"HUNTER-SYNC\"]\n",
    "hunter[\"HUNTER-SYNC\"] = hunter[\"bandwidth(MiB/s)\"] / fs[\"bandwidth(MiB/s)\"].reset_index()[\"bandwidth(MiB/s)\"]\n",
    "\n",
    "hunter"
   ]
  }
 ],
 "metadata": {
  "kernelspec": {
   "display_name": "Python 3.6.8 64-bit",
   "language": "python",
   "name": "python3"
  },
  "language_info": {
   "codemirror_mode": {
    "name": "ipython",
    "version": 3
   },
   "file_extension": ".py",
   "mimetype": "text/x-python",
   "name": "python",
   "nbconvert_exporter": "python",
   "pygments_lexer": "ipython3",
   "version": "3.6.8"
  },
  "orig_nbformat": 4,
  "vscode": {
   "interpreter": {
    "hash": "916dbcbb3f70747c44a77c7bcd40155683ae19c65e1c03b4aa3499c5328201f1"
   }
  }
 },
 "nbformat": 4,
 "nbformat_minor": 2
}
