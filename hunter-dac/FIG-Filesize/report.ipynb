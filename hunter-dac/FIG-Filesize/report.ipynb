{
 "cells": [
  {
   "cell_type": "code",
   "execution_count": 1,
   "metadata": {},
   "outputs": [
    {
     "data": {
      "text/html": [
       "<div>\n",
       "<style scoped>\n",
       "    .dataframe tbody tr th:only-of-type {\n",
       "        vertical-align: middle;\n",
       "    }\n",
       "\n",
       "    .dataframe tbody tr th {\n",
       "        vertical-align: top;\n",
       "    }\n",
       "\n",
       "    .dataframe thead th {\n",
       "        text-align: right;\n",
       "    }\n",
       "</style>\n",
       "<table border=\"1\" class=\"dataframe\">\n",
       "  <thead>\n",
       "    <tr style=\"text-align: right;\">\n",
       "      <th></th>\n",
       "      <th>file_system</th>\n",
       "      <th>file_size</th>\n",
       "      <th>bandwidth(MiB/s)</th>\n",
       "    </tr>\n",
       "  </thead>\n",
       "  <tbody>\n",
       "    <tr>\n",
       "      <th>0</th>\n",
       "      <td>NOVA</td>\n",
       "      <td>1024</td>\n",
       "      <td>1035</td>\n",
       "    </tr>\n",
       "    <tr>\n",
       "      <th>1</th>\n",
       "      <td>NOVA</td>\n",
       "      <td>2048</td>\n",
       "      <td>955</td>\n",
       "    </tr>\n",
       "    <tr>\n",
       "      <th>2</th>\n",
       "      <td>NOVA</td>\n",
       "      <td>4096</td>\n",
       "      <td>928</td>\n",
       "    </tr>\n",
       "    <tr>\n",
       "      <th>3</th>\n",
       "      <td>NOVA</td>\n",
       "      <td>8192</td>\n",
       "      <td>909</td>\n",
       "    </tr>\n",
       "    <tr>\n",
       "      <th>4</th>\n",
       "      <td>NOVA</td>\n",
       "      <td>16384</td>\n",
       "      <td>816</td>\n",
       "    </tr>\n",
       "  </tbody>\n",
       "</table>\n",
       "</div>"
      ],
      "text/plain": [
       "  file_system  file_size  bandwidth(MiB/s)\n",
       "0        NOVA       1024              1035\n",
       "1        NOVA       2048               955\n",
       "2        NOVA       4096               928\n",
       "3        NOVA       8192               909\n",
       "4        NOVA      16384               816"
      ]
     },
     "execution_count": 1,
     "metadata": {},
     "output_type": "execute_result"
    }
   ],
   "source": [
    "import pandas as pd\n",
    "\n",
    "with open(\"./performance-comparison-table\", \"r\") as f:\n",
    "    df = pd.read_csv(f, delim_whitespace=True, engine='python')\n",
    "df.head()"
   ]
  },
  {
   "cell_type": "markdown",
   "metadata": {},
   "source": [
    "# The performance improvement of HUNTER over other PM file systems. "
   ]
  },
  {
   "cell_type": "code",
   "execution_count": 3,
   "metadata": {},
   "outputs": [
    {
     "data": {
      "text/html": [
       "<div>\n",
       "<style scoped>\n",
       "    .dataframe tbody tr th:only-of-type {\n",
       "        vertical-align: middle;\n",
       "    }\n",
       "\n",
       "    .dataframe tbody tr th {\n",
       "        vertical-align: top;\n",
       "    }\n",
       "\n",
       "    .dataframe thead th {\n",
       "        text-align: right;\n",
       "    }\n",
       "</style>\n",
       "<table border=\"1\" class=\"dataframe\">\n",
       "  <thead>\n",
       "    <tr style=\"text-align: right;\">\n",
       "      <th></th>\n",
       "      <th>index</th>\n",
       "      <th>file_system</th>\n",
       "      <th>file_size</th>\n",
       "      <th>bandwidth(MiB/s)</th>\n",
       "      <th>NOVA</th>\n",
       "      <th>PMFS</th>\n",
       "      <th>HUNTER-FSYNC</th>\n",
       "    </tr>\n",
       "  </thead>\n",
       "  <tbody>\n",
       "    <tr>\n",
       "      <th>0</th>\n",
       "      <td>21</td>\n",
       "      <td>HUNTER</td>\n",
       "      <td>1024</td>\n",
       "      <td>2096</td>\n",
       "      <td>2.025121</td>\n",
       "      <td>2.280740</td>\n",
       "      <td>2.498212</td>\n",
       "    </tr>\n",
       "    <tr>\n",
       "      <th>1</th>\n",
       "      <td>22</td>\n",
       "      <td>HUNTER</td>\n",
       "      <td>2048</td>\n",
       "      <td>2135</td>\n",
       "      <td>2.235602</td>\n",
       "      <td>2.247368</td>\n",
       "      <td>2.563025</td>\n",
       "    </tr>\n",
       "    <tr>\n",
       "      <th>2</th>\n",
       "      <td>23</td>\n",
       "      <td>HUNTER</td>\n",
       "      <td>4096</td>\n",
       "      <td>2087</td>\n",
       "      <td>2.248922</td>\n",
       "      <td>2.236870</td>\n",
       "      <td>2.514458</td>\n",
       "    </tr>\n",
       "    <tr>\n",
       "      <th>3</th>\n",
       "      <td>24</td>\n",
       "      <td>HUNTER</td>\n",
       "      <td>8192</td>\n",
       "      <td>2094</td>\n",
       "      <td>2.303630</td>\n",
       "      <td>2.283533</td>\n",
       "      <td>2.492857</td>\n",
       "    </tr>\n",
       "    <tr>\n",
       "      <th>4</th>\n",
       "      <td>25</td>\n",
       "      <td>HUNTER</td>\n",
       "      <td>16384</td>\n",
       "      <td>2044</td>\n",
       "      <td>2.504902</td>\n",
       "      <td>2.193133</td>\n",
       "      <td>2.542289</td>\n",
       "    </tr>\n",
       "    <tr>\n",
       "      <th>5</th>\n",
       "      <td>26</td>\n",
       "      <td>HUNTER</td>\n",
       "      <td>32768</td>\n",
       "      <td>1881</td>\n",
       "      <td>2.664306</td>\n",
       "      <td>2.016077</td>\n",
       "      <td>2.319359</td>\n",
       "    </tr>\n",
       "    <tr>\n",
       "      <th>6</th>\n",
       "      <td>27</td>\n",
       "      <td>HUNTER</td>\n",
       "      <td>65536</td>\n",
       "      <td>1866</td>\n",
       "      <td>3.411335</td>\n",
       "      <td>1.997859</td>\n",
       "      <td>2.229391</td>\n",
       "    </tr>\n",
       "  </tbody>\n",
       "</table>\n",
       "</div>"
      ],
      "text/plain": [
       "   index file_system  file_size  bandwidth(MiB/s)      NOVA      PMFS  \\\n",
       "0     21      HUNTER       1024              2096  2.025121  2.280740   \n",
       "1     22      HUNTER       2048              2135  2.235602  2.247368   \n",
       "2     23      HUNTER       4096              2087  2.248922  2.236870   \n",
       "3     24      HUNTER       8192              2094  2.303630  2.283533   \n",
       "4     25      HUNTER      16384              2044  2.504902  2.193133   \n",
       "5     26      HUNTER      32768              1881  2.664306  2.016077   \n",
       "6     27      HUNTER      65536              1866  3.411335  1.997859   \n",
       "\n",
       "   HUNTER-FSYNC  \n",
       "0      2.498212  \n",
       "1      2.563025  \n",
       "2      2.514458  \n",
       "3      2.492857  \n",
       "4      2.542289  \n",
       "5      2.319359  \n",
       "6      2.229391  "
      ]
     },
     "execution_count": 3,
     "metadata": {},
     "output_type": "execute_result"
    }
   ],
   "source": [
    "fs_names = df['file_system'].drop_duplicates().reset_index().drop(columns=['index'])['file_system']\n",
    "\n",
    "hunter =  df[df[\"file_system\"] == \"HUNTER\"].copy().reset_index()\n",
    "\n",
    "for fs_name in fs_names:\n",
    "    if fs_name == \"HUNTER\":\n",
    "        continue\n",
    "    fs = df[df[\"file_system\"] == fs_name]\n",
    "    hunter[fs_name] = hunter[\"bandwidth(MiB/s)\"] / fs[\"bandwidth(MiB/s)\"].reset_index()[\"bandwidth(MiB/s)\"]\n",
    "\n",
    "hunter"
   ]
  },
  {
   "cell_type": "markdown",
   "metadata": {},
   "source": [
    "# HUNTER's performance degradation"
   ]
  },
  {
   "cell_type": "code",
   "execution_count": 5,
   "metadata": {},
   "outputs": [
    {
     "data": {
      "text/plain": [
       "0.10973282442748092"
      ]
     },
     "execution_count": 5,
     "metadata": {},
     "output_type": "execute_result"
    }
   ],
   "source": [
    "( hunter.iloc[0][\"bandwidth(MiB/s)\"] - hunter.iloc[-1][\"bandwidth(MiB/s)\"]) /  hunter.iloc[0][\"bandwidth(MiB/s)\"]"
   ]
  }
 ],
 "metadata": {
  "kernelspec": {
   "display_name": "Python 3.6.8 64-bit",
   "language": "python",
   "name": "python3"
  },
  "language_info": {
   "codemirror_mode": {
    "name": "ipython",
    "version": 3
   },
   "file_extension": ".py",
   "mimetype": "text/x-python",
   "name": "python",
   "nbconvert_exporter": "python",
   "pygments_lexer": "ipython3",
   "version": "3.6.8"
  },
  "orig_nbformat": 4,
  "vscode": {
   "interpreter": {
    "hash": "916dbcbb3f70747c44a77c7bcd40155683ae19c65e1c03b4aa3499c5328201f1"
   }
  }
 },
 "nbformat": 4,
 "nbformat_minor": 2
}
