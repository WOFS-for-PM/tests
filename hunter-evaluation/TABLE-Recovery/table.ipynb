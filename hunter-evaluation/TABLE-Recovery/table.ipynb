{
 "cells": [
  {
   "cell_type": "code",
   "execution_count": 8,
   "metadata": {},
   "outputs": [
    {
     "name": "stdout",
     "output_type": "stream",
     "text": [
      "Time(s) & FIO & TTR & FBK & USR1 & USR2 & MD & GSF \\\\ \\hline\n",
      "HUNT & 2.27 & 2.30 & 2.28 & 2.29 & 2.29 & 2.30 & 2.71 \\\\ \\hline\n",
      "HUNT-FAIL & 9.52 & 8.46 & 8.54 & 9.25 & 9.44 & 8.74 & 9.38 \\\\ \\hline\n",
      "NOVA & 2.42 & 2.32 & 2.32 & 2.34 & 2.32 & 2.33 & 2.35 \\\\ \\hline\n",
      "NOVA-FAIL & 89.42 & 2.50 & 2.51 & 2.55 & 2.48 & 2.51 & 2.54 \\\\ \\hline\n"
     ]
    }
   ],
   "source": [
    "import pandas as pd\n",
    "\n",
    "with open(\"./performance-comparison-table\", \"r\") as f:\n",
    "    df = pd.read_csv(f, delim_whitespace=True, index_col=None, engine='python')\n",
    "\n",
    "# Time(s)   & TTR & FBK & USR1 & USR2 & MD  & GSF \\\\ \\hline\\hline\n",
    "# HUNT      & 0.9 & 0.9 & 0.9  & 0.9  & 0.9 & 0.9 \\\\ \\hline\n",
    "# HUNT-FAIL & 0.9 & 0.9 & 0.9  & 0.9  & 0.9 & 0.9 \\\\ \\hline\n",
    "# NOVA      & 0.9 & 0.9 & 0.9  & 0.9  & 0.9 & 0.9 \\\\ \\hline\n",
    "# NOVA-FAIL & 0.9 & 0.9 & 0.9  & 0.9  & 0.9 & 0.9 \\\\ \\hline\n",
    "\n",
    "def pretty_seconds(list):\n",
    "    return [\"{:.2f}\".format(x) for x in list]\n",
    "\n",
    "table_hdr = [\"Time(s)\", \"FIO\", \"TTR\", \"FBK\", \"USR1\", \"USR2\", \"MD\", \"GSF\"]\n",
    "hunt_line = [\"HUNT\"] + pretty_seconds(df.loc[df[\"file_system\"] == \"HUNTER-J\"][\"recovery\"].tolist())\n",
    "hunt_fail_line = [\"HUNT-FAIL\"] + pretty_seconds(df.loc[df[\"file_system\"] == \"HUNTER-J-FAIL\"][\"recovery\"].tolist())\n",
    "nova_line = [\"NOVA\"] + pretty_seconds(df.loc[df[\"file_system\"] == \"NOVA\"][\"recovery\"].tolist())\n",
    "nova_fail_line = [\"NOVA-FAIL\"] + pretty_seconds(df.loc[df[\"file_system\"] == \"NOVA-FAIL\"][\"recovery\"].tolist())\n",
    "\n",
    "table = [table_hdr, hunt_line, hunt_fail_line, nova_line, nova_fail_line]\n",
    "\n",
    "for line in table:\n",
    "    print(\" & \".join([str(x) for x in line]) + \" \\\\\\\\ \\\\hline\")"
   ]
  }
 ],
 "metadata": {
  "kernelspec": {
   "display_name": "Python 3",
   "language": "python",
   "name": "python3"
  },
  "language_info": {
   "codemirror_mode": {
    "name": "ipython",
    "version": 3
   },
   "file_extension": ".py",
   "mimetype": "text/x-python",
   "name": "python",
   "nbconvert_exporter": "python",
   "pygments_lexer": "ipython3",
   "version": "3.6.8"
  }
 },
 "nbformat": 4,
 "nbformat_minor": 2
}
