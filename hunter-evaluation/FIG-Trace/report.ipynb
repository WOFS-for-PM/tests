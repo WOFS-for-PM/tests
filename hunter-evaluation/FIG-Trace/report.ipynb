{
 "cells": [
  {
   "cell_type": "code",
   "execution_count": 10,
   "metadata": {},
   "outputs": [
    {
     "data": {
      "text/plain": [
       "0    1.509136\n",
       "1    1.581509\n",
       "2    1.317200\n",
       "3    1.325624\n",
       "4    1.340722\n",
       "5    1.224100\n",
       "Name: ops, dtype: float64"
      ]
     },
     "execution_count": 10,
     "metadata": {},
     "output_type": "execute_result"
    }
   ],
   "source": [
    "import pandas as pd\n",
    "\n",
    "with open(\"./performance-comparison-table\", \"r\") as f:\n",
    "    df = pd.read_csv(f, delim_whitespace=True, index_col=None, engine='python')\n",
    "with open(\"./performance-comparison-table-fsync\", \"r\") as f:\n",
    "    df_strict = pd.read_csv(f, delim_whitespace=True, index_col=None, engine='python')\n",
    "\n",
    "df[df[\"file_system\"] == \"HUNTER\"].reset_index()[\"ops\"]/df_strict[df_strict[\"file_system\"] == \"HUNTER-SYNC\"].reset_index()[\"ops\"]"
   ]
  },
  {
   "cell_type": "code",
   "execution_count": 12,
   "metadata": {},
   "outputs": [
    {
     "data": {
      "text/plain": [
       "0    2.175666\n",
       "1    2.036136\n",
       "2    1.229525\n",
       "3    1.232661\n",
       "4    1.485353\n",
       "5    1.319532\n",
       "Name: ops, dtype: float64"
      ]
     },
     "execution_count": 12,
     "metadata": {},
     "output_type": "execute_result"
    }
   ],
   "source": [
    "df[df[\"file_system\"] == \"HUNTER-J\"].reset_index()[\"ops\"]/df[df[\"file_system\"] == \"HUNTER\"].reset_index()[\"ops\"]\n",
    "df_strict[df_strict[\"file_system\"] == \"HUNTER-J\"].reset_index()[\"ops\"]/df_strict[df_strict[\"file_system\"] == \"HUNTER-SYNC\"].reset_index()[\"ops\"]\n"
   ]
  }
 ],
 "metadata": {
  "kernelspec": {
   "display_name": "Python 3",
   "language": "python",
   "name": "python3"
  },
  "language_info": {
   "codemirror_mode": {
    "name": "ipython",
    "version": 3
   },
   "file_extension": ".py",
   "mimetype": "text/x-python",
   "name": "python",
   "nbconvert_exporter": "python",
   "pygments_lexer": "ipython3",
   "version": "3.6.8"
  }
 },
 "nbformat": 4,
 "nbformat_minor": 2
}
