{
 "cells": [
  {
   "cell_type": "code",
   "execution_count": 3,
   "metadata": {},
   "outputs": [
    {
     "data": {
      "text/html": [
       "<div>\n",
       "<style scoped>\n",
       "    .dataframe tbody tr th:only-of-type {\n",
       "        vertical-align: middle;\n",
       "    }\n",
       "\n",
       "    .dataframe tbody tr th {\n",
       "        vertical-align: top;\n",
       "    }\n",
       "\n",
       "    .dataframe thead th {\n",
       "        text-align: right;\n",
       "    }\n",
       "</style>\n",
       "<table border=\"1\" class=\"dataframe\">\n",
       "  <thead>\n",
       "    <tr style=\"text-align: right;\">\n",
       "      <th></th>\n",
       "      <th>file_system</th>\n",
       "      <th>pattern</th>\n",
       "      <th>size</th>\n",
       "      <th>allocate</th>\n",
       "      <th>update-meta</th>\n",
       "      <th>update-dram</th>\n",
       "      <th>write-data</th>\n",
       "      <th>other</th>\n",
       "      <th>total</th>\n",
       "      <th>bandwidth(MiB/s)</th>\n",
       "    </tr>\n",
       "  </thead>\n",
       "  <tbody>\n",
       "    <tr>\n",
       "      <th>0</th>\n",
       "      <td>NOVA-NOGC</td>\n",
       "      <td>seq</td>\n",
       "      <td>1024</td>\n",
       "      <td>18124877</td>\n",
       "      <td>295513924</td>\n",
       "      <td>12209656</td>\n",
       "      <td>379091978</td>\n",
       "      <td>341335252</td>\n",
       "      <td>1046275687</td>\n",
       "      <td>878</td>\n",
       "    </tr>\n",
       "    <tr>\n",
       "      <th>1</th>\n",
       "      <td>NOVA</td>\n",
       "      <td>seq</td>\n",
       "      <td>65536</td>\n",
       "      <td>1625217637</td>\n",
       "      <td>74948822913</td>\n",
       "      <td>853873991</td>\n",
       "      <td>25418663343</td>\n",
       "      <td>22538520989</td>\n",
       "      <td>125385098873</td>\n",
       "      <td>495</td>\n",
       "    </tr>\n",
       "    <tr>\n",
       "      <th>2</th>\n",
       "      <td>NOVA-RELAX</td>\n",
       "      <td>seq</td>\n",
       "      <td>65536</td>\n",
       "      <td>1722630814</td>\n",
       "      <td>75546106004</td>\n",
       "      <td>810039279</td>\n",
       "      <td>24556609863</td>\n",
       "      <td>24849745933</td>\n",
       "      <td>127485131893</td>\n",
       "      <td>485</td>\n",
       "    </tr>\n",
       "    <tr>\n",
       "      <th>3</th>\n",
       "      <td>PMFS</td>\n",
       "      <td>seq</td>\n",
       "      <td>65536</td>\n",
       "      <td>2122015805</td>\n",
       "      <td>14211653022</td>\n",
       "      <td>8603015123</td>\n",
       "      <td>12098200667</td>\n",
       "      <td>29997954720</td>\n",
       "      <td>67032839337</td>\n",
       "      <td>885</td>\n",
       "    </tr>\n",
       "    <tr>\n",
       "      <th>4</th>\n",
       "      <td>HUNTER</td>\n",
       "      <td>seq</td>\n",
       "      <td>65536</td>\n",
       "      <td>2735679316</td>\n",
       "      <td>429940430</td>\n",
       "      <td>308507376</td>\n",
       "      <td>10834471897</td>\n",
       "      <td>14956533631</td>\n",
       "      <td>29265132650</td>\n",
       "      <td>1786</td>\n",
       "    </tr>\n",
       "  </tbody>\n",
       "</table>\n",
       "</div>"
      ],
      "text/plain": [
       "  file_system pattern   size    allocate  update-meta  update-dram  \\\n",
       "0   NOVA-NOGC     seq   1024    18124877    295513924     12209656   \n",
       "1        NOVA     seq  65536  1625217637  74948822913    853873991   \n",
       "2  NOVA-RELAX     seq  65536  1722630814  75546106004    810039279   \n",
       "3        PMFS     seq  65536  2122015805  14211653022   8603015123   \n",
       "4      HUNTER     seq  65536  2735679316    429940430    308507376   \n",
       "\n",
       "    write-data        other         total  bandwidth(MiB/s)  \n",
       "0    379091978    341335252    1046275687               878  \n",
       "1  25418663343  22538520989  125385098873               495  \n",
       "2  24556609863  24849745933  127485131893               485  \n",
       "3  12098200667  29997954720   67032839337               885  \n",
       "4  10834471897  14956533631   29265132650              1786  "
      ]
     },
     "execution_count": 3,
     "metadata": {},
     "output_type": "execute_result"
    }
   ],
   "source": [
    "# ipython -c \"%run plot.ipynb\"\n",
    "\n",
    "import pandas as pd\n",
    "import numpy as np\n",
    "\n",
    "\n",
    "# Data Preprocessing\n",
    "# with open(\"./avg-test-result-in-paper\", \"r\") as f:\n",
    "with open(\"./performance-comparison-table\", \"r\") as f:\n",
    "    df = pd.read_csv(f, delim_whitespace=True, index_col=None, engine='python')\n",
    "df.head()"
   ]
  },
  {
   "cell_type": "markdown",
   "metadata": {},
   "source": [
    "# Overheads of Metadata"
   ]
  },
  {
   "cell_type": "code",
   "execution_count": 6,
   "metadata": {},
   "outputs": [
    {
     "name": "stdout",
     "output_type": "stream",
     "text": [
      "NOVA-NOGC 0.28244365005492095\n",
      "NOVA 0.5977490434402746\n",
      "NOVA-RELAX 0.5925875816436922\n",
      "PMFS 0.21201030961186837\n",
      "HUNTER 0.01469121753664766\n",
      "HUNTER-SYNC 0.5480892461819367\n"
     ]
    }
   ],
   "source": [
    "fss = df['file_system'].drop_duplicates().reset_index().drop(columns=['index'])['file_system']\n",
    "\n",
    "for fs in fss:\n",
    "    total = df[df['file_system'] == fs]['total'].iloc[0]\n",
    "    update_meta = df[df['file_system'] == fs]['update-meta'].iloc[0]\n",
    "    percentage = update_meta / total\n",
    "    print(fs, percentage)\n"
   ]
  }
 ],
 "metadata": {
  "kernelspec": {
   "display_name": "Python 3",
   "language": "python",
   "name": "python3"
  },
  "language_info": {
   "codemirror_mode": {
    "name": "ipython",
    "version": 3
   },
   "file_extension": ".py",
   "mimetype": "text/x-python",
   "name": "python",
   "nbconvert_exporter": "python",
   "pygments_lexer": "ipython3",
   "version": "3.6.8"
  }
 },
 "nbformat": 4,
 "nbformat_minor": 2
}
